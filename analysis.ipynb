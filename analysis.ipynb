{
 "cells": [
  {
   "cell_type": "code",
   "execution_count": 1,
   "metadata": {},
   "outputs": [],
   "source": [
    "import os\n",
    "import matplotlib.pyplot as mp\n",
    "import numpy as np\n",
    "import pandas as pd"
   ]
  },
  {
   "cell_type": "code",
   "execution_count": 2,
   "metadata": {},
   "outputs": [
    {
     "data": {
      "text/plain": [
       "'startup_script_20190527154944'"
      ]
     },
     "execution_count": 2,
     "metadata": {},
     "output_type": "execute_result"
    }
   ],
   "source": [
    "scriptoutputs = [f for f in os.listdir() if f.startswith(\"startup_script_\")]\n",
    "scriptoutputs.sort()\n",
    "filename = scriptoutputs[-1]\n",
    "filename"
   ]
  },
  {
   "cell_type": "code",
   "execution_count": 3,
   "metadata": {},
   "outputs": [],
   "source": [
    "alldata = pd.read_csv(filename, sep=\" \", header=None, names=[\"program\", \"real\", \"user\", \"kernel\"])"
   ]
  },
  {
   "cell_type": "code",
   "execution_count": 4,
   "metadata": {},
   "outputs": [
    {
     "data": {
      "text/html": [
       "<div>\n",
       "<style scoped>\n",
       "    .dataframe tbody tr th:only-of-type {\n",
       "        vertical-align: middle;\n",
       "    }\n",
       "\n",
       "    .dataframe tbody tr th {\n",
       "        vertical-align: top;\n",
       "    }\n",
       "\n",
       "    .dataframe thead th {\n",
       "        text-align: right;\n",
       "    }\n",
       "</style>\n",
       "<table border=\"1\" class=\"dataframe\">\n",
       "  <thead>\n",
       "    <tr style=\"text-align: right;\">\n",
       "      <th></th>\n",
       "      <th>real</th>\n",
       "      <th>user</th>\n",
       "      <th>kernel</th>\n",
       "      <th>on_proc</th>\n",
       "    </tr>\n",
       "    <tr>\n",
       "      <th>program</th>\n",
       "      <th></th>\n",
       "      <th></th>\n",
       "      <th></th>\n",
       "      <th></th>\n",
       "    </tr>\n",
       "  </thead>\n",
       "  <tbody>\n",
       "    <tr>\n",
       "      <th>lua</th>\n",
       "      <td>0.001000</td>\n",
       "      <td>0.000933</td>\n",
       "      <td>0.000067</td>\n",
       "      <td>0.001000</td>\n",
       "    </tr>\n",
       "    <tr>\n",
       "      <th>perl</th>\n",
       "      <td>0.001067</td>\n",
       "      <td>0.001000</td>\n",
       "      <td>0.000133</td>\n",
       "      <td>0.001133</td>\n",
       "    </tr>\n",
       "    <tr>\n",
       "      <th>sbcl</th>\n",
       "      <td>0.004067</td>\n",
       "      <td>0.001867</td>\n",
       "      <td>0.002200</td>\n",
       "      <td>0.004067</td>\n",
       "    </tr>\n",
       "    <tr>\n",
       "      <th>bash</th>\n",
       "      <td>0.004333</td>\n",
       "      <td>0.003067</td>\n",
       "      <td>0.001333</td>\n",
       "      <td>0.004400</td>\n",
       "    </tr>\n",
       "    <tr>\n",
       "      <th>deno</th>\n",
       "      <td>0.009000</td>\n",
       "      <td>0.005667</td>\n",
       "      <td>0.003400</td>\n",
       "      <td>0.009067</td>\n",
       "    </tr>\n",
       "    <tr>\n",
       "      <th>python3</th>\n",
       "      <td>0.011800</td>\n",
       "      <td>0.009000</td>\n",
       "      <td>0.002800</td>\n",
       "      <td>0.011800</td>\n",
       "    </tr>\n",
       "    <tr>\n",
       "      <th>python2</th>\n",
       "      <td>0.032933</td>\n",
       "      <td>0.031933</td>\n",
       "      <td>0.000867</td>\n",
       "      <td>0.032800</td>\n",
       "    </tr>\n",
       "    <tr>\n",
       "      <th>ruby</th>\n",
       "      <td>0.048267</td>\n",
       "      <td>0.042000</td>\n",
       "      <td>0.005800</td>\n",
       "      <td>0.047800</td>\n",
       "    </tr>\n",
       "    <tr>\n",
       "      <th>node</th>\n",
       "      <td>0.050533</td>\n",
       "      <td>0.044067</td>\n",
       "      <td>0.006667</td>\n",
       "      <td>0.050733</td>\n",
       "    </tr>\n",
       "    <tr>\n",
       "      <th>perl6</th>\n",
       "      <td>0.112467</td>\n",
       "      <td>0.141533</td>\n",
       "      <td>0.024133</td>\n",
       "      <td>0.165667</td>\n",
       "    </tr>\n",
       "    <tr>\n",
       "      <th>racket</th>\n",
       "      <td>0.341000</td>\n",
       "      <td>0.293333</td>\n",
       "      <td>0.046267</td>\n",
       "      <td>0.339600</td>\n",
       "    </tr>\n",
       "  </tbody>\n",
       "</table>\n",
       "</div>"
      ],
      "text/plain": [
       "             real      user    kernel   on_proc\n",
       "program                                        \n",
       "lua      0.001000  0.000933  0.000067  0.001000\n",
       "perl     0.001067  0.001000  0.000133  0.001133\n",
       "sbcl     0.004067  0.001867  0.002200  0.004067\n",
       "bash     0.004333  0.003067  0.001333  0.004400\n",
       "deno     0.009000  0.005667  0.003400  0.009067\n",
       "python3  0.011800  0.009000  0.002800  0.011800\n",
       "python2  0.032933  0.031933  0.000867  0.032800\n",
       "ruby     0.048267  0.042000  0.005800  0.047800\n",
       "node     0.050533  0.044067  0.006667  0.050733\n",
       "perl6    0.112467  0.141533  0.024133  0.165667\n",
       "racket   0.341000  0.293333  0.046267  0.339600"
      ]
     },
     "execution_count": 4,
     "metadata": {},
     "output_type": "execute_result"
    }
   ],
   "source": [
    "data = alldata.groupby(\"program\").mean()\n",
    "data[\"on_proc\"] = data[\"user\"] + data[\"kernel\"]\n",
    "data = data.sort_values(\"on_proc\")\n",
    "data"
   ]
  },
  {
   "cell_type": "code",
   "execution_count": 5,
   "metadata": {},
   "outputs": [
    {
     "data": {
      "image/png": "[encoded data removed]",
      "text/plain": [
       "<Figure size 432x288 with 1 Axes>"
      ]
     },
     "metadata": {
      "needs_background": "light"
     },
     "output_type": "display_data"
    }
   ],
   "source": [
    "x = np.arange(len(data))\n",
    "mp.bar(x, data[\"on_proc\"])\n",
    "mp.xticks(x, data.index, rotation=25)\n",
    "mp.show()"
   ]
  },
  {
   "cell_type": "code",
   "execution_count": 6,
   "metadata": {},
   "outputs": [
    {
     "data": {
      "image/png": "[encoded data removed]",
      "text/plain": [
       "<Figure size 432x288 with 1 Axes>"
      ]
     },
     "metadata": {
      "needs_background": "light"
     },
     "output_type": "display_data"
    }
   ],
   "source": [
    "data2 = data[data[\"on_proc\"] <= 0.15]\n",
    "x2 = np.arange(len(data2))\n",
    "mp.bar(x2, data2[\"on_proc\"])\n",
    "mp.xticks(x2, data2.index, rotation=25)\n",
    "mp.show()"
   ]
  }
 ],
 "metadata": {
  "kernelspec": {
   "display_name": "Python 3",
   "language": "python",
   "name": "python3"
  },
  "language_info": {
   "codemirror_mode": {
    "name": "ipython",
    "version": 3
   },
   "file_extension": ".py",
   "mimetype": "text/x-python",
   "name": "python",
   "nbconvert_exporter": "python",
   "pygments_lexer": "ipython3",
   "version": "3.7.3"
  }
 },
 "nbformat": 4,
 "nbformat_minor": 2
}
