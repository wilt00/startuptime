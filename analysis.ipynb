{
 "cells": [
  {
   "cell_type": "code",
   "execution_count": 1,
   "metadata": {},
   "outputs": [],
   "source": [
    "import os\n",
    "import matplotlib.pyplot as mp\n",
    "import numpy as np\n",
    "import pandas as pd"
   ]
  },
  {
   "cell_type": "code",
   "execution_count": 2,
   "metadata": {},
   "outputs": [],
   "source": [
    "def recentFile(prefix):\n",
    "    files = [f for f in os.listdir() if f.startswith(prefix)]\n",
    "    files.sort()\n",
    "    return files[-1]"
   ]
  },
  {
   "cell_type": "code",
   "execution_count": 3,
   "metadata": {},
   "outputs": [
    {
     "name": "stdout",
     "output_type": "stream",
     "text": [
      "bash\n",
      "GNU bash, version 5.0.7(1)-release (x86_64-pc-linux-gnu)\n",
      "Copyright (C) 2019 Free Software Foundation, Inc.\n",
      "License GPLv3+: GNU GPL version 3 or later <http://gnu.org/licenses/gpl.html>\n",
      "\n",
      "This is free software; you are free to change and redistribute it.\n",
      "There is NO WARRANTY, to the extent permitted by law.\n",
      "\n",
      "node\n",
      "v11.15.0\n",
      "\n",
      "sbcl\n",
      "SBCL 1.5.2\n",
      "\n",
      "ruby\n",
      "ruby 2.6.3p62 (2019-04-16 revision 67580) [x86_64-linux]\n",
      "\n",
      "perl\n",
      "\n",
      "This is perl 5, version 28, subversion 2 (v5.28.2) built for x86_64-linux-thread-multi\n",
      "\n",
      "Copyright 1987-2019, Larry Wall\n",
      "\n",
      "Perl may be copied only under the terms of either the Artistic License or the\n",
      "GNU General Public License, which may be found in the Perl 5 source kit.\n",
      "\n",
      "Complete documentation for Perl, including FAQ lists, should be found on\n",
      "this system using \"man perl\" or \"perldoc perl\".  If you have access to the\n",
      "Internet, point your browser at http://www.perl.org/, the Perl Home Page.\n",
      "\n",
      "\n",
      "perl6\n",
      "This is Rakudo version 2019.03.1 built on MoarVM version 2019.03\n",
      "implementing Perl 6.d.\n",
      "\n",
      "python3\n",
      "Python 3.7.3\n",
      "\n",
      "python2\n",
      "Python 2.7.16\n",
      "\n",
      "deno\n",
      "deno: 0.6.0\n",
      "v8: 7.6.53\n",
      "typescript: 3.4.1\n",
      "\n",
      "lua\n",
      "Lua 5.3.5  Copyright (C) 1994-2018 Lua.org, PUC-Rio\n",
      "\n",
      "racket\n",
      "Welcome to Racket v7.3.\n",
      "\n",
      "\n"
     ]
    }
   ],
   "source": [
    "with open(recentFile(\"startup_versions_\"), 'r') as versionfile:\n",
    "    print(versionfile.read())"
   ]
  },
  {
   "cell_type": "code",
   "execution_count": 4,
   "metadata": {},
   "outputs": [
    {
     "data": {
      "text/plain": [
       "'startup_null_20190527163453'"
      ]
     },
     "execution_count": 4,
     "metadata": {},
     "output_type": "execute_result"
    }
   ],
   "source": [
    "nullfile = recentFile(\"startup_null_\")\n",
    "nullfile"
   ]
  },
  {
   "cell_type": "code",
   "execution_count": 5,
   "metadata": {},
   "outputs": [
    {
     "data": {
      "text/plain": [
       "'startup_script_20190527163453'"
      ]
     },
     "execution_count": 5,
     "metadata": {},
     "output_type": "execute_result"
    }
   ],
   "source": [
    "scriptfile = recentFile(\"startup_script_\")\n",
    "scriptfile"
   ]
  },
  {
   "cell_type": "code",
   "execution_count": 6,
   "metadata": {},
   "outputs": [],
   "source": [
    "def readData(filename):\n",
    "    alldata = pd.read_csv(filename, sep=\" \", header=None, names=[\"program\", \"real\", \"user\", \"kernel\"])\n",
    "    data = alldata.groupby(\"program\").mean()\n",
    "    data[\"on_proc\"] = data[\"user\"] + data[\"kernel\"]\n",
    "    # return data.sort_values(\"on_proc\")\n",
    "    return data"
   ]
  },
  {
   "cell_type": "code",
   "execution_count": 7,
   "metadata": {},
   "outputs": [
    {
     "data": {
      "text/html": [
       "<div>\n",
       "<style scoped>\n",
       "    .dataframe tbody tr th:only-of-type {\n",
       "        vertical-align: middle;\n",
       "    }\n",
       "\n",
       "    .dataframe tbody tr th {\n",
       "        vertical-align: top;\n",
       "    }\n",
       "\n",
       "    .dataframe thead th {\n",
       "        text-align: right;\n",
       "    }\n",
       "</style>\n",
       "<table border=\"1\" class=\"dataframe\">\n",
       "  <thead>\n",
       "    <tr style=\"text-align: right;\">\n",
       "      <th></th>\n",
       "      <th>real</th>\n",
       "      <th>user</th>\n",
       "      <th>kernel</th>\n",
       "      <th>on_proc</th>\n",
       "    </tr>\n",
       "    <tr>\n",
       "      <th>program</th>\n",
       "      <th></th>\n",
       "      <th></th>\n",
       "      <th></th>\n",
       "      <th></th>\n",
       "    </tr>\n",
       "  </thead>\n",
       "  <tbody>\n",
       "    <tr>\n",
       "      <th>bash</th>\n",
       "      <td>0.002667</td>\n",
       "      <td>0.002400</td>\n",
       "      <td>0.000333</td>\n",
       "      <td>0.002733</td>\n",
       "    </tr>\n",
       "    <tr>\n",
       "      <th>deno</th>\n",
       "      <td>0.008000</td>\n",
       "      <td>0.004867</td>\n",
       "      <td>0.003133</td>\n",
       "      <td>0.008000</td>\n",
       "    </tr>\n",
       "    <tr>\n",
       "      <th>lua</th>\n",
       "      <td>0.001000</td>\n",
       "      <td>0.000800</td>\n",
       "      <td>0.000200</td>\n",
       "      <td>0.001000</td>\n",
       "    </tr>\n",
       "    <tr>\n",
       "      <th>node</th>\n",
       "      <td>0.044800</td>\n",
       "      <td>0.039267</td>\n",
       "      <td>0.006067</td>\n",
       "      <td>0.045333</td>\n",
       "    </tr>\n",
       "    <tr>\n",
       "      <th>perl</th>\n",
       "      <td>0.001000</td>\n",
       "      <td>0.000667</td>\n",
       "      <td>0.000333</td>\n",
       "      <td>0.001000</td>\n",
       "    </tr>\n",
       "    <tr>\n",
       "      <th>perl6</th>\n",
       "      <td>0.099667</td>\n",
       "      <td>0.125400</td>\n",
       "      <td>0.020467</td>\n",
       "      <td>0.145867</td>\n",
       "    </tr>\n",
       "    <tr>\n",
       "      <th>python2</th>\n",
       "      <td>0.033267</td>\n",
       "      <td>0.029733</td>\n",
       "      <td>0.003400</td>\n",
       "      <td>0.033133</td>\n",
       "    </tr>\n",
       "    <tr>\n",
       "      <th>python3</th>\n",
       "      <td>0.011667</td>\n",
       "      <td>0.010000</td>\n",
       "      <td>0.002000</td>\n",
       "      <td>0.012000</td>\n",
       "    </tr>\n",
       "    <tr>\n",
       "      <th>racket</th>\n",
       "      <td>0.255067</td>\n",
       "      <td>0.222267</td>\n",
       "      <td>0.031867</td>\n",
       "      <td>0.254133</td>\n",
       "    </tr>\n",
       "    <tr>\n",
       "      <th>ruby</th>\n",
       "      <td>0.047933</td>\n",
       "      <td>0.042000</td>\n",
       "      <td>0.005533</td>\n",
       "      <td>0.047533</td>\n",
       "    </tr>\n",
       "    <tr>\n",
       "      <th>sbcl</th>\n",
       "      <td>0.004000</td>\n",
       "      <td>0.002400</td>\n",
       "      <td>0.001600</td>\n",
       "      <td>0.004000</td>\n",
       "    </tr>\n",
       "  </tbody>\n",
       "</table>\n",
       "</div>"
      ],
      "text/plain": [
       "             real      user    kernel   on_proc\n",
       "program                                        \n",
       "bash     0.002667  0.002400  0.000333  0.002733\n",
       "deno     0.008000  0.004867  0.003133  0.008000\n",
       "lua      0.001000  0.000800  0.000200  0.001000\n",
       "node     0.044800  0.039267  0.006067  0.045333\n",
       "perl     0.001000  0.000667  0.000333  0.001000\n",
       "perl6    0.099667  0.125400  0.020467  0.145867\n",
       "python2  0.033267  0.029733  0.003400  0.033133\n",
       "python3  0.011667  0.010000  0.002000  0.012000\n",
       "racket   0.255067  0.222267  0.031867  0.254133\n",
       "ruby     0.047933  0.042000  0.005533  0.047533\n",
       "sbcl     0.004000  0.002400  0.001600  0.004000"
      ]
     },
     "execution_count": 7,
     "metadata": {},
     "output_type": "execute_result"
    }
   ],
   "source": [
    "nulltimes = readData(nullfile)\n",
    "nulltimes"
   ]
  },
  {
   "cell_type": "code",
   "execution_count": 8,
   "metadata": {},
   "outputs": [
    {
     "data": {
      "text/html": [
       "<div>\n",
       "<style scoped>\n",
       "    .dataframe tbody tr th:only-of-type {\n",
       "        vertical-align: middle;\n",
       "    }\n",
       "\n",
       "    .dataframe tbody tr th {\n",
       "        vertical-align: top;\n",
       "    }\n",
       "\n",
       "    .dataframe thead th {\n",
       "        text-align: right;\n",
       "    }\n",
       "</style>\n",
       "<table border=\"1\" class=\"dataframe\">\n",
       "  <thead>\n",
       "    <tr style=\"text-align: right;\">\n",
       "      <th></th>\n",
       "      <th>real</th>\n",
       "      <th>user</th>\n",
       "      <th>kernel</th>\n",
       "      <th>on_proc</th>\n",
       "    </tr>\n",
       "    <tr>\n",
       "      <th>program</th>\n",
       "      <th></th>\n",
       "      <th></th>\n",
       "      <th></th>\n",
       "      <th></th>\n",
       "    </tr>\n",
       "  </thead>\n",
       "  <tbody>\n",
       "    <tr>\n",
       "      <th>bash</th>\n",
       "      <td>0.003533</td>\n",
       "      <td>0.002733</td>\n",
       "      <td>0.000800</td>\n",
       "      <td>0.003533</td>\n",
       "    </tr>\n",
       "    <tr>\n",
       "      <th>deno</th>\n",
       "      <td>0.008267</td>\n",
       "      <td>0.003667</td>\n",
       "      <td>0.004733</td>\n",
       "      <td>0.008400</td>\n",
       "    </tr>\n",
       "    <tr>\n",
       "      <th>lua</th>\n",
       "      <td>0.001000</td>\n",
       "      <td>0.000867</td>\n",
       "      <td>0.000133</td>\n",
       "      <td>0.001000</td>\n",
       "    </tr>\n",
       "    <tr>\n",
       "      <th>node</th>\n",
       "      <td>0.050067</td>\n",
       "      <td>0.043800</td>\n",
       "      <td>0.006733</td>\n",
       "      <td>0.050533</td>\n",
       "    </tr>\n",
       "    <tr>\n",
       "      <th>perl</th>\n",
       "      <td>0.001067</td>\n",
       "      <td>0.000600</td>\n",
       "      <td>0.000400</td>\n",
       "      <td>0.001000</td>\n",
       "    </tr>\n",
       "    <tr>\n",
       "      <th>perl6</th>\n",
       "      <td>0.114267</td>\n",
       "      <td>0.146733</td>\n",
       "      <td>0.022067</td>\n",
       "      <td>0.168800</td>\n",
       "    </tr>\n",
       "    <tr>\n",
       "      <th>python2</th>\n",
       "      <td>0.033000</td>\n",
       "      <td>0.029067</td>\n",
       "      <td>0.003400</td>\n",
       "      <td>0.032467</td>\n",
       "    </tr>\n",
       "    <tr>\n",
       "      <th>python3</th>\n",
       "      <td>0.014000</td>\n",
       "      <td>0.010533</td>\n",
       "      <td>0.003000</td>\n",
       "      <td>0.013533</td>\n",
       "    </tr>\n",
       "    <tr>\n",
       "      <th>racket</th>\n",
       "      <td>0.336333</td>\n",
       "      <td>0.297400</td>\n",
       "      <td>0.037333</td>\n",
       "      <td>0.334733</td>\n",
       "    </tr>\n",
       "    <tr>\n",
       "      <th>ruby</th>\n",
       "      <td>0.048267</td>\n",
       "      <td>0.042133</td>\n",
       "      <td>0.005800</td>\n",
       "      <td>0.047933</td>\n",
       "    </tr>\n",
       "    <tr>\n",
       "      <th>sbcl</th>\n",
       "      <td>0.004067</td>\n",
       "      <td>0.003200</td>\n",
       "      <td>0.000867</td>\n",
       "      <td>0.004067</td>\n",
       "    </tr>\n",
       "  </tbody>\n",
       "</table>\n",
       "</div>"
      ],
      "text/plain": [
       "             real      user    kernel   on_proc\n",
       "program                                        \n",
       "bash     0.003533  0.002733  0.000800  0.003533\n",
       "deno     0.008267  0.003667  0.004733  0.008400\n",
       "lua      0.001000  0.000867  0.000133  0.001000\n",
       "node     0.050067  0.043800  0.006733  0.050533\n",
       "perl     0.001067  0.000600  0.000400  0.001000\n",
       "perl6    0.114267  0.146733  0.022067  0.168800\n",
       "python2  0.033000  0.029067  0.003400  0.032467\n",
       "python3  0.014000  0.010533  0.003000  0.013533\n",
       "racket   0.336333  0.297400  0.037333  0.334733\n",
       "ruby     0.048267  0.042133  0.005800  0.047933\n",
       "sbcl     0.004067  0.003200  0.000867  0.004067"
      ]
     },
     "execution_count": 8,
     "metadata": {},
     "output_type": "execute_result"
    }
   ],
   "source": [
    "scripttimes = readData(scriptfile)\n",
    "scripttimes"
   ]
  },
  {
   "cell_type": "code",
   "execution_count": 9,
   "metadata": {},
   "outputs": [],
   "source": [
    "times = scripttimes[['on_proc']].join(nulltimes[['on_proc']], lsuffix=\"_script\", rsuffix=\"_null\")"
   ]
  },
  {
   "cell_type": "code",
   "execution_count": 10,
   "metadata": {},
   "outputs": [],
   "source": [
    "def plotbars(data):\n",
    "    x = np.arange(len(data))\n",
    "    width = 0.4\n",
    "\n",
    "    fig, ax = mp.subplots()\n",
    "    scriptbars = ax.bar(x - width/2, data[\"on_proc_script\"], width, label=\"Hello World\")\n",
    "    nullbars   = ax.bar(x + width/2, data[\"on_proc_null\"],   width, label=\"/dev/null\")\n",
    "\n",
    "    ax.set_ylabel(\"Seconds\")\n",
    "    ax.set_xticks(x)\n",
    "    ax.set_xticklabels(data.index, rotation=25)\n",
    "    ax.legend()\n",
    "\n",
    "    mp.grid(axis='y')\n",
    "\n",
    "    mp.show()"
   ]
  },
  {
   "cell_type": "code",
   "execution_count": 11,
   "metadata": {},
   "outputs": [
    {
     "data": {
      "image/png": "[encoded data removed]",
      "text/plain": [
       "<Figure size 432x288 with 1 Axes>"
      ]
     },
     "metadata": {
      "needs_background": "light"
     },
     "output_type": "display_data"
    },
    {
     "data": {
      "image/png": "[encoded data removed]",
      "text/plain": [
       "<Figure size 432x288 with 1 Axes>"
      ]
     },
     "metadata": {
      "needs_background": "light"
     },
     "output_type": "display_data"
    }
   ],
   "source": [
    "plotbars(times)\n",
    "plotbars(times[times[\"on_proc_null\"] <= 0.1])"
   ]
  }
 ],
 "metadata": {
  "kernelspec": {
   "display_name": "Python 3",
   "language": "python",
   "name": "python3"
  },
  "language_info": {
   "codemirror_mode": {
    "name": "ipython",
    "version": 3
   },
   "file_extension": ".py",
   "mimetype": "text/x-python",
   "name": "python",
   "nbconvert_exporter": "python",
   "pygments_lexer": "ipython3",
   "version": "3.7.3"
  }
 },
 "nbformat": 4,
 "nbformat_minor": 2
}
